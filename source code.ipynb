{
  "nbformat": 4,
  "nbformat_minor": 0,
  "metadata": {
    "colab": {
      "provenance": []
    },
    "kernelspec": {
      "name": "python3",
      "display_name": "Python 3"
    }
  },
  "cells": [
    {
      "cell_type": "markdown",
      "metadata": {
        "id": "ohl5IEbvncpr"
      },
      "source": [
        "# **Kegiatan Modul 6**"
      ]
    },
    {
      "cell_type": "markdown",
      "source": [
        "Content Based Filtering : Anime"
      ],
      "metadata": {
        "id": "dEkb6pJRmpsc"
      }
    },
    {
      "cell_type": "markdown",
      "source": [
        "Tulislan code sesuai instruksi pada sel yang telah disediakan"
      ],
      "metadata": {
        "id": "eVUImFHnd_KY"
      }
    },
    {
      "cell_type": "markdown",
      "metadata": {
        "id": "kf3nSb4OhOVz"
      },
      "source": [
        "## Downlaod dan extract dataset dari situs [kaggle.com](https://www.kaggle.com/datasets/hernan4444/anime-recommendation-database-2020)"
      ]
    },
    {
      "cell_type": "code",
      "source": [
        "!pip install kaggle"
      ],
      "metadata": {
        "id": "vDp0u6jtkikG"
      },
      "execution_count": null,
      "outputs": []
    },
    {
      "cell_type": "code",
      "source": [
        "!mkdir ~/.kaggle"
      ],
      "metadata": {
        "id": "l5S8gjFClfAB"
      },
      "execution_count": null,
      "outputs": []
    },
    {
      "cell_type": "code",
      "source": [
        "!cp kaggle.json ~/.kaggle"
      ],
      "metadata": {
        "id": "D6OqdBD2ls2x"
      },
      "execution_count": null,
      "outputs": []
    },
    {
      "cell_type": "code",
      "source": [
        "!chmod 600 ~/.kaggle/kaggle.json"
      ],
      "metadata": {
        "id": "n9BVso2CmJp2"
      },
      "execution_count": null,
      "outputs": []
    },
    {
      "cell_type": "code",
      "source": [
        "!kaggle datasets download -d hernan4444/anime-recommendation-database-2020"
      ],
      "metadata": {
        "colab": {
          "base_uri": "https://localhost:8080/"
        },
        "id": "BoXHu1bueIcR",
        "outputId": "63c32794-e7d3-4ccc-9f1a-f86dc1fbecd0"
      },
      "execution_count": null,
      "outputs": [
        {
          "output_type": "stream",
          "name": "stdout",
          "text": [
            "Downloading anime-recommendation-database-2020.zip to /content\n",
            "100% 658M/661M [00:22<00:00, 28.2MB/s]\n",
            "100% 661M/661M [00:22<00:00, 30.2MB/s]\n"
          ]
        }
      ]
    },
    {
      "cell_type": "code",
      "source": [
        "!unzip anime-recommendation-database-2020.zip"
      ],
      "metadata": {
        "id": "sH9kZk3mmpNS"
      },
      "execution_count": null,
      "outputs": []
    },
    {
      "cell_type": "markdown",
      "source": [
        "## Import library dan load dataset"
      ],
      "metadata": {
        "id": "Apx168g3mPBC"
      }
    },
    {
      "cell_type": "code",
      "source": [
        "import pandas as pd"
      ],
      "metadata": {
        "id": "PWtcy4faeaSV"
      },
      "execution_count": null,
      "outputs": []
    },
    {
      "cell_type": "code",
      "source": [
        "# Untuk tugas ini cukup gunakan data \"anime_with_synopsis.csv\"\n",
        "# Tampilkan 5 data teratas\n",
        "df = pd.read_csv(\"anime_with_synopsis.csv\")\n",
        "df.head(5)"
      ],
      "metadata": {
        "colab": {
          "base_uri": "https://localhost:8080/",
          "height": 206
        },
        "id": "06NkyoMWecru",
        "outputId": "7dd60ccf-1e26-49fa-c748-1fda42854c3b"
      },
      "execution_count": null,
      "outputs": [
        {
          "output_type": "execute_result",
          "data": {
            "text/plain": [
              "   MAL_ID                             Name Score  \\\n",
              "0       1                     Cowboy Bebop  8.78   \n",
              "1       5  Cowboy Bebop: Tengoku no Tobira  8.39   \n",
              "2       6                           Trigun  8.24   \n",
              "3       7               Witch Hunter Robin  7.27   \n",
              "4       8                   Bouken Ou Beet  6.98   \n",
              "\n",
              "                                              Genres  \\\n",
              "0    Action, Adventure, Comedy, Drama, Sci-Fi, Space   \n",
              "1              Action, Drama, Mystery, Sci-Fi, Space   \n",
              "2  Action, Sci-Fi, Adventure, Comedy, Drama, Shounen   \n",
              "3  Action, Mystery, Police, Supernatural, Drama, ...   \n",
              "4          Adventure, Fantasy, Shounen, Supernatural   \n",
              "\n",
              "                                           sypnopsis  \n",
              "0  In the year 2071, humanity has colonized sever...  \n",
              "1  other day, another bounty—such is the life of ...  \n",
              "2  Vash the Stampede is the man with a $$60,000,0...  \n",
              "3  ches are individuals with special powers like ...  \n",
              "4  It is the dark century and the people are suff...  "
            ],
            "text/html": [
              "\n",
              "  <div id=\"df-a767ca21-22da-456d-a9ff-e9c5f4bc1226\">\n",
              "    <div class=\"colab-df-container\">\n",
              "      <div>\n",
              "<style scoped>\n",
              "    .dataframe tbody tr th:only-of-type {\n",
              "        vertical-align: middle;\n",
              "    }\n",
              "\n",
              "    .dataframe tbody tr th {\n",
              "        vertical-align: top;\n",
              "    }\n",
              "\n",
              "    .dataframe thead th {\n",
              "        text-align: right;\n",
              "    }\n",
              "</style>\n",
              "<table border=\"1\" class=\"dataframe\">\n",
              "  <thead>\n",
              "    <tr style=\"text-align: right;\">\n",
              "      <th></th>\n",
              "      <th>MAL_ID</th>\n",
              "      <th>Name</th>\n",
              "      <th>Score</th>\n",
              "      <th>Genres</th>\n",
              "      <th>sypnopsis</th>\n",
              "    </tr>\n",
              "  </thead>\n",
              "  <tbody>\n",
              "    <tr>\n",
              "      <th>0</th>\n",
              "      <td>1</td>\n",
              "      <td>Cowboy Bebop</td>\n",
              "      <td>8.78</td>\n",
              "      <td>Action, Adventure, Comedy, Drama, Sci-Fi, Space</td>\n",
              "      <td>In the year 2071, humanity has colonized sever...</td>\n",
              "    </tr>\n",
              "    <tr>\n",
              "      <th>1</th>\n",
              "      <td>5</td>\n",
              "      <td>Cowboy Bebop: Tengoku no Tobira</td>\n",
              "      <td>8.39</td>\n",
              "      <td>Action, Drama, Mystery, Sci-Fi, Space</td>\n",
              "      <td>other day, another bounty—such is the life of ...</td>\n",
              "    </tr>\n",
              "    <tr>\n",
              "      <th>2</th>\n",
              "      <td>6</td>\n",
              "      <td>Trigun</td>\n",
              "      <td>8.24</td>\n",
              "      <td>Action, Sci-Fi, Adventure, Comedy, Drama, Shounen</td>\n",
              "      <td>Vash the Stampede is the man with a $$60,000,0...</td>\n",
              "    </tr>\n",
              "    <tr>\n",
              "      <th>3</th>\n",
              "      <td>7</td>\n",
              "      <td>Witch Hunter Robin</td>\n",
              "      <td>7.27</td>\n",
              "      <td>Action, Mystery, Police, Supernatural, Drama, ...</td>\n",
              "      <td>ches are individuals with special powers like ...</td>\n",
              "    </tr>\n",
              "    <tr>\n",
              "      <th>4</th>\n",
              "      <td>8</td>\n",
              "      <td>Bouken Ou Beet</td>\n",
              "      <td>6.98</td>\n",
              "      <td>Adventure, Fantasy, Shounen, Supernatural</td>\n",
              "      <td>It is the dark century and the people are suff...</td>\n",
              "    </tr>\n",
              "  </tbody>\n",
              "</table>\n",
              "</div>\n",
              "      <button class=\"colab-df-convert\" onclick=\"convertToInteractive('df-a767ca21-22da-456d-a9ff-e9c5f4bc1226')\"\n",
              "              title=\"Convert this dataframe to an interactive table.\"\n",
              "              style=\"display:none;\">\n",
              "        \n",
              "  <svg xmlns=\"http://www.w3.org/2000/svg\" height=\"24px\"viewBox=\"0 0 24 24\"\n",
              "       width=\"24px\">\n",
              "    <path d=\"M0 0h24v24H0V0z\" fill=\"none\"/>\n",
              "    <path d=\"M18.56 5.44l.94 2.06.94-2.06 2.06-.94-2.06-.94-.94-2.06-.94 2.06-2.06.94zm-11 1L8.5 8.5l.94-2.06 2.06-.94-2.06-.94L8.5 2.5l-.94 2.06-2.06.94zm10 10l.94 2.06.94-2.06 2.06-.94-2.06-.94-.94-2.06-.94 2.06-2.06.94z\"/><path d=\"M17.41 7.96l-1.37-1.37c-.4-.4-.92-.59-1.43-.59-.52 0-1.04.2-1.43.59L10.3 9.45l-7.72 7.72c-.78.78-.78 2.05 0 2.83L4 21.41c.39.39.9.59 1.41.59.51 0 1.02-.2 1.41-.59l7.78-7.78 2.81-2.81c.8-.78.8-2.07 0-2.86zM5.41 20L4 18.59l7.72-7.72 1.47 1.35L5.41 20z\"/>\n",
              "  </svg>\n",
              "      </button>\n",
              "      \n",
              "  <style>\n",
              "    .colab-df-container {\n",
              "      display:flex;\n",
              "      flex-wrap:wrap;\n",
              "      gap: 12px;\n",
              "    }\n",
              "\n",
              "    .colab-df-convert {\n",
              "      background-color: #E8F0FE;\n",
              "      border: none;\n",
              "      border-radius: 50%;\n",
              "      cursor: pointer;\n",
              "      display: none;\n",
              "      fill: #1967D2;\n",
              "      height: 32px;\n",
              "      padding: 0 0 0 0;\n",
              "      width: 32px;\n",
              "    }\n",
              "\n",
              "    .colab-df-convert:hover {\n",
              "      background-color: #E2EBFA;\n",
              "      box-shadow: 0px 1px 2px rgba(60, 64, 67, 0.3), 0px 1px 3px 1px rgba(60, 64, 67, 0.15);\n",
              "      fill: #174EA6;\n",
              "    }\n",
              "\n",
              "    [theme=dark] .colab-df-convert {\n",
              "      background-color: #3B4455;\n",
              "      fill: #D2E3FC;\n",
              "    }\n",
              "\n",
              "    [theme=dark] .colab-df-convert:hover {\n",
              "      background-color: #434B5C;\n",
              "      box-shadow: 0px 1px 3px 1px rgba(0, 0, 0, 0.15);\n",
              "      filter: drop-shadow(0px 1px 2px rgba(0, 0, 0, 0.3));\n",
              "      fill: #FFFFFF;\n",
              "    }\n",
              "  </style>\n",
              "\n",
              "      <script>\n",
              "        const buttonEl =\n",
              "          document.querySelector('#df-a767ca21-22da-456d-a9ff-e9c5f4bc1226 button.colab-df-convert');\n",
              "        buttonEl.style.display =\n",
              "          google.colab.kernel.accessAllowed ? 'block' : 'none';\n",
              "\n",
              "        async function convertToInteractive(key) {\n",
              "          const element = document.querySelector('#df-a767ca21-22da-456d-a9ff-e9c5f4bc1226');\n",
              "          const dataTable =\n",
              "            await google.colab.kernel.invokeFunction('convertToInteractive',\n",
              "                                                     [key], {});\n",
              "          if (!dataTable) return;\n",
              "\n",
              "          const docLinkHtml = 'Like what you see? Visit the ' +\n",
              "            '<a target=\"_blank\" href=https://colab.research.google.com/notebooks/data_table.ipynb>data table notebook</a>'\n",
              "            + ' to learn more about interactive tables.';\n",
              "          element.innerHTML = '';\n",
              "          dataTable['output_type'] = 'display_data';\n",
              "          await google.colab.output.renderOutput(dataTable, element);\n",
              "          const docLink = document.createElement('div');\n",
              "          docLink.innerHTML = docLinkHtml;\n",
              "          element.appendChild(docLink);\n",
              "        }\n",
              "      </script>\n",
              "    </div>\n",
              "  </div>\n",
              "  "
            ]
          },
          "metadata": {},
          "execution_count": 9
        }
      ]
    },
    {
      "cell_type": "markdown",
      "source": [
        "## Tangani data yang kosong (missing value)"
      ],
      "metadata": {
        "id": "l-iEVISImX10"
      }
    },
    {
      "cell_type": "code",
      "source": [
        "########################\n",
        "# Preprocessing\n",
        "########################\n",
        "df.isnull().sum()"
      ],
      "metadata": {
        "colab": {
          "base_uri": "https://localhost:8080/"
        },
        "id": "ldHHQTS8fxi5",
        "outputId": "0141ede6-606b-4f97-cb4d-46bb609f2ff1"
      },
      "execution_count": null,
      "outputs": [
        {
          "output_type": "execute_result",
          "data": {
            "text/plain": [
              "MAL_ID       0\n",
              "Name         0\n",
              "Score        0\n",
              "Genres       0\n",
              "sypnopsis    8\n",
              "dtype: int64"
            ]
          },
          "metadata": {},
          "execution_count": 10
        }
      ]
    },
    {
      "cell_type": "code",
      "source": [
        "df.dropna(subset=['sypnopsis'],inplace=True)\n",
        "df"
      ],
      "metadata": {
        "colab": {
          "base_uri": "https://localhost:8080/",
          "height": 424
        },
        "id": "-GjG36Q-gQvF",
        "outputId": "12a554b1-a675-4e30-b229-31e2515e6874"
      },
      "execution_count": null,
      "outputs": [
        {
          "output_type": "execute_result",
          "data": {
            "text/plain": [
              "       MAL_ID                             Name    Score  \\\n",
              "0           1                     Cowboy Bebop     8.78   \n",
              "1           5  Cowboy Bebop: Tengoku no Tobira     8.39   \n",
              "2           6                           Trigun     8.24   \n",
              "3           7               Witch Hunter Robin     7.27   \n",
              "4           8                   Bouken Ou Beet     6.98   \n",
              "...       ...                              ...      ...   \n",
              "16209   48481  Daomu Biji Zhi Qinling Shen Shu  Unknown   \n",
              "16210   48483                     Mieruko-chan  Unknown   \n",
              "16211   48488  Higurashi no Naku Koro ni Sotsu  Unknown   \n",
              "16212   48491      Yama no Susume: Next Summit  Unknown   \n",
              "16213   48492                    Scarlet Nexus  Unknown   \n",
              "\n",
              "                                                  Genres  \\\n",
              "0        Action, Adventure, Comedy, Drama, Sci-Fi, Space   \n",
              "1                  Action, Drama, Mystery, Sci-Fi, Space   \n",
              "2      Action, Sci-Fi, Adventure, Comedy, Drama, Shounen   \n",
              "3      Action, Mystery, Police, Supernatural, Drama, ...   \n",
              "4              Adventure, Fantasy, Shounen, Supernatural   \n",
              "...                                                  ...   \n",
              "16209                   Adventure, Mystery, Supernatural   \n",
              "16210                       Comedy, Horror, Supernatural   \n",
              "16211  Mystery, Dementia, Horror, Psychological, Supe...   \n",
              "16212                   Adventure, Slice of Life, Comedy   \n",
              "16213                                    Action, Fantasy   \n",
              "\n",
              "                                               sypnopsis  \n",
              "0      In the year 2071, humanity has colonized sever...  \n",
              "1      other day, another bounty—such is the life of ...  \n",
              "2      Vash the Stampede is the man with a $$60,000,0...  \n",
              "3      ches are individuals with special powers like ...  \n",
              "4      It is the dark century and the people are suff...  \n",
              "...                                                  ...  \n",
              "16209  No synopsis information has been added to this...  \n",
              "16210  ko is a typical high school student whose life...  \n",
              "16211          Sequel to Higurashi no Naku Koro ni Gou .  \n",
              "16212                          New Yama no Susume anime.  \n",
              "16213  Solar calendar year 2020: grotesque organisms ...  \n",
              "\n",
              "[16206 rows x 5 columns]"
            ],
            "text/html": [
              "\n",
              "  <div id=\"df-4cce363d-3e06-4974-bcaf-ec8667089a79\">\n",
              "    <div class=\"colab-df-container\">\n",
              "      <div>\n",
              "<style scoped>\n",
              "    .dataframe tbody tr th:only-of-type {\n",
              "        vertical-align: middle;\n",
              "    }\n",
              "\n",
              "    .dataframe tbody tr th {\n",
              "        vertical-align: top;\n",
              "    }\n",
              "\n",
              "    .dataframe thead th {\n",
              "        text-align: right;\n",
              "    }\n",
              "</style>\n",
              "<table border=\"1\" class=\"dataframe\">\n",
              "  <thead>\n",
              "    <tr style=\"text-align: right;\">\n",
              "      <th></th>\n",
              "      <th>MAL_ID</th>\n",
              "      <th>Name</th>\n",
              "      <th>Score</th>\n",
              "      <th>Genres</th>\n",
              "      <th>sypnopsis</th>\n",
              "    </tr>\n",
              "  </thead>\n",
              "  <tbody>\n",
              "    <tr>\n",
              "      <th>0</th>\n",
              "      <td>1</td>\n",
              "      <td>Cowboy Bebop</td>\n",
              "      <td>8.78</td>\n",
              "      <td>Action, Adventure, Comedy, Drama, Sci-Fi, Space</td>\n",
              "      <td>In the year 2071, humanity has colonized sever...</td>\n",
              "    </tr>\n",
              "    <tr>\n",
              "      <th>1</th>\n",
              "      <td>5</td>\n",
              "      <td>Cowboy Bebop: Tengoku no Tobira</td>\n",
              "      <td>8.39</td>\n",
              "      <td>Action, Drama, Mystery, Sci-Fi, Space</td>\n",
              "      <td>other day, another bounty—such is the life of ...</td>\n",
              "    </tr>\n",
              "    <tr>\n",
              "      <th>2</th>\n",
              "      <td>6</td>\n",
              "      <td>Trigun</td>\n",
              "      <td>8.24</td>\n",
              "      <td>Action, Sci-Fi, Adventure, Comedy, Drama, Shounen</td>\n",
              "      <td>Vash the Stampede is the man with a $$60,000,0...</td>\n",
              "    </tr>\n",
              "    <tr>\n",
              "      <th>3</th>\n",
              "      <td>7</td>\n",
              "      <td>Witch Hunter Robin</td>\n",
              "      <td>7.27</td>\n",
              "      <td>Action, Mystery, Police, Supernatural, Drama, ...</td>\n",
              "      <td>ches are individuals with special powers like ...</td>\n",
              "    </tr>\n",
              "    <tr>\n",
              "      <th>4</th>\n",
              "      <td>8</td>\n",
              "      <td>Bouken Ou Beet</td>\n",
              "      <td>6.98</td>\n",
              "      <td>Adventure, Fantasy, Shounen, Supernatural</td>\n",
              "      <td>It is the dark century and the people are suff...</td>\n",
              "    </tr>\n",
              "    <tr>\n",
              "      <th>...</th>\n",
              "      <td>...</td>\n",
              "      <td>...</td>\n",
              "      <td>...</td>\n",
              "      <td>...</td>\n",
              "      <td>...</td>\n",
              "    </tr>\n",
              "    <tr>\n",
              "      <th>16209</th>\n",
              "      <td>48481</td>\n",
              "      <td>Daomu Biji Zhi Qinling Shen Shu</td>\n",
              "      <td>Unknown</td>\n",
              "      <td>Adventure, Mystery, Supernatural</td>\n",
              "      <td>No synopsis information has been added to this...</td>\n",
              "    </tr>\n",
              "    <tr>\n",
              "      <th>16210</th>\n",
              "      <td>48483</td>\n",
              "      <td>Mieruko-chan</td>\n",
              "      <td>Unknown</td>\n",
              "      <td>Comedy, Horror, Supernatural</td>\n",
              "      <td>ko is a typical high school student whose life...</td>\n",
              "    </tr>\n",
              "    <tr>\n",
              "      <th>16211</th>\n",
              "      <td>48488</td>\n",
              "      <td>Higurashi no Naku Koro ni Sotsu</td>\n",
              "      <td>Unknown</td>\n",
              "      <td>Mystery, Dementia, Horror, Psychological, Supe...</td>\n",
              "      <td>Sequel to Higurashi no Naku Koro ni Gou .</td>\n",
              "    </tr>\n",
              "    <tr>\n",
              "      <th>16212</th>\n",
              "      <td>48491</td>\n",
              "      <td>Yama no Susume: Next Summit</td>\n",
              "      <td>Unknown</td>\n",
              "      <td>Adventure, Slice of Life, Comedy</td>\n",
              "      <td>New Yama no Susume anime.</td>\n",
              "    </tr>\n",
              "    <tr>\n",
              "      <th>16213</th>\n",
              "      <td>48492</td>\n",
              "      <td>Scarlet Nexus</td>\n",
              "      <td>Unknown</td>\n",
              "      <td>Action, Fantasy</td>\n",
              "      <td>Solar calendar year 2020: grotesque organisms ...</td>\n",
              "    </tr>\n",
              "  </tbody>\n",
              "</table>\n",
              "<p>16206 rows × 5 columns</p>\n",
              "</div>\n",
              "      <button class=\"colab-df-convert\" onclick=\"convertToInteractive('df-4cce363d-3e06-4974-bcaf-ec8667089a79')\"\n",
              "              title=\"Convert this dataframe to an interactive table.\"\n",
              "              style=\"display:none;\">\n",
              "        \n",
              "  <svg xmlns=\"http://www.w3.org/2000/svg\" height=\"24px\"viewBox=\"0 0 24 24\"\n",
              "       width=\"24px\">\n",
              "    <path d=\"M0 0h24v24H0V0z\" fill=\"none\"/>\n",
              "    <path d=\"M18.56 5.44l.94 2.06.94-2.06 2.06-.94-2.06-.94-.94-2.06-.94 2.06-2.06.94zm-11 1L8.5 8.5l.94-2.06 2.06-.94-2.06-.94L8.5 2.5l-.94 2.06-2.06.94zm10 10l.94 2.06.94-2.06 2.06-.94-2.06-.94-.94-2.06-.94 2.06-2.06.94z\"/><path d=\"M17.41 7.96l-1.37-1.37c-.4-.4-.92-.59-1.43-.59-.52 0-1.04.2-1.43.59L10.3 9.45l-7.72 7.72c-.78.78-.78 2.05 0 2.83L4 21.41c.39.39.9.59 1.41.59.51 0 1.02-.2 1.41-.59l7.78-7.78 2.81-2.81c.8-.78.8-2.07 0-2.86zM5.41 20L4 18.59l7.72-7.72 1.47 1.35L5.41 20z\"/>\n",
              "  </svg>\n",
              "      </button>\n",
              "      \n",
              "  <style>\n",
              "    .colab-df-container {\n",
              "      display:flex;\n",
              "      flex-wrap:wrap;\n",
              "      gap: 12px;\n",
              "    }\n",
              "\n",
              "    .colab-df-convert {\n",
              "      background-color: #E8F0FE;\n",
              "      border: none;\n",
              "      border-radius: 50%;\n",
              "      cursor: pointer;\n",
              "      display: none;\n",
              "      fill: #1967D2;\n",
              "      height: 32px;\n",
              "      padding: 0 0 0 0;\n",
              "      width: 32px;\n",
              "    }\n",
              "\n",
              "    .colab-df-convert:hover {\n",
              "      background-color: #E2EBFA;\n",
              "      box-shadow: 0px 1px 2px rgba(60, 64, 67, 0.3), 0px 1px 3px 1px rgba(60, 64, 67, 0.15);\n",
              "      fill: #174EA6;\n",
              "    }\n",
              "\n",
              "    [theme=dark] .colab-df-convert {\n",
              "      background-color: #3B4455;\n",
              "      fill: #D2E3FC;\n",
              "    }\n",
              "\n",
              "    [theme=dark] .colab-df-convert:hover {\n",
              "      background-color: #434B5C;\n",
              "      box-shadow: 0px 1px 3px 1px rgba(0, 0, 0, 0.15);\n",
              "      filter: drop-shadow(0px 1px 2px rgba(0, 0, 0, 0.3));\n",
              "      fill: #FFFFFF;\n",
              "    }\n",
              "  </style>\n",
              "\n",
              "      <script>\n",
              "        const buttonEl =\n",
              "          document.querySelector('#df-4cce363d-3e06-4974-bcaf-ec8667089a79 button.colab-df-convert');\n",
              "        buttonEl.style.display =\n",
              "          google.colab.kernel.accessAllowed ? 'block' : 'none';\n",
              "\n",
              "        async function convertToInteractive(key) {\n",
              "          const element = document.querySelector('#df-4cce363d-3e06-4974-bcaf-ec8667089a79');\n",
              "          const dataTable =\n",
              "            await google.colab.kernel.invokeFunction('convertToInteractive',\n",
              "                                                     [key], {});\n",
              "          if (!dataTable) return;\n",
              "\n",
              "          const docLinkHtml = 'Like what you see? Visit the ' +\n",
              "            '<a target=\"_blank\" href=https://colab.research.google.com/notebooks/data_table.ipynb>data table notebook</a>'\n",
              "            + ' to learn more about interactive tables.';\n",
              "          element.innerHTML = '';\n",
              "          dataTable['output_type'] = 'display_data';\n",
              "          await google.colab.output.renderOutput(dataTable, element);\n",
              "          const docLink = document.createElement('div');\n",
              "          docLink.innerHTML = docLinkHtml;\n",
              "          element.appendChild(docLink);\n",
              "        }\n",
              "      </script>\n",
              "    </div>\n",
              "  </div>\n",
              "  "
            ]
          },
          "metadata": {},
          "execution_count": 11
        }
      ]
    },
    {
      "cell_type": "markdown",
      "source": [
        "Hasil penanganan missing value"
      ],
      "metadata": {
        "id": "orO-KYHcesJl"
      }
    },
    {
      "cell_type": "code",
      "source": [
        "df.isnull().sum()"
      ],
      "metadata": {
        "colab": {
          "base_uri": "https://localhost:8080/"
        },
        "id": "RGj0xNm2gVM0",
        "outputId": "0d05b2c7-165b-4982-95b4-f773a016f0fc"
      },
      "execution_count": null,
      "outputs": [
        {
          "output_type": "execute_result",
          "data": {
            "text/plain": [
              "MAL_ID       0\n",
              "Name         0\n",
              "Score        0\n",
              "Genres       0\n",
              "sypnopsis    0\n",
              "dtype: int64"
            ]
          },
          "metadata": {},
          "execution_count": 12
        }
      ]
    },
    {
      "cell_type": "markdown",
      "source": [
        "## Selanjutnya lakukan feature extraction pada fitur \"Genres\" menggunakan TF-IDF"
      ],
      "metadata": {
        "id": "KsvsebHkoF9K"
      }
    },
    {
      "cell_type": "code",
      "source": [
        "########################\n",
        "# Creating TF-IDF Matrix\n",
        "########################\n",
        "from sklearn.feature_extraction.text import TfidfVectorizer\n",
        "\n",
        "tfidf_vectorizer = TfidfVectorizer()\n",
        "tfidf_matrix = tfidf_vectorizer.fit_transform(df['Genres'])\n",
        "\n",
        "tfidf_matrix.shape"
      ],
      "metadata": {
        "colab": {
          "base_uri": "https://localhost:8080/"
        },
        "id": "iABQEHKwgjuB",
        "outputId": "86033169-b355-4aaf-d0aa-309946f5c17b"
      },
      "execution_count": null,
      "outputs": [
        {
          "output_type": "execute_result",
          "data": {
            "text/plain": [
              "(16206, 46)"
            ]
          },
          "metadata": {},
          "execution_count": 15
        }
      ]
    },
    {
      "cell_type": "markdown",
      "source": [
        "## Menghitung cosine similarity dari TF-IDF diatas"
      ],
      "metadata": {
        "id": "TJpEPsvxqaC1"
      }
    },
    {
      "cell_type": "code",
      "source": [
        "########################\n",
        "# Creating Cosine Similarity Matrix\n",
        "########################\n",
        "from sklearn.metrics.pairwise import cosine_similarity\n",
        "\n",
        "cosine_sim = cosine_similarity(tfidf_matrix)\n",
        "cosine_sim.shape"
      ],
      "metadata": {
        "colab": {
          "base_uri": "https://localhost:8080/"
        },
        "id": "q0ekUA_rgx7o",
        "outputId": "24b57e10-7cda-4b04-e104-8d8bbf234b61"
      },
      "execution_count": null,
      "outputs": [
        {
          "output_type": "execute_result",
          "data": {
            "text/plain": [
              "(16206, 16206)"
            ]
          },
          "metadata": {},
          "execution_count": 16
        }
      ]
    },
    {
      "cell_type": "markdown",
      "source": [
        "## Membuat Content Based Recomender"
      ],
      "metadata": {
        "id": "FU4ghhjop1U5"
      }
    },
    {
      "cell_type": "code",
      "source": [
        "########################\n",
        "# Creating Content Based Recommender\n",
        "########################\n",
        "\n",
        "df['Name'] = df['Name'].str.lower()\n",
        "df['Genres'] = df['Genres'].fillna('')\n",
        "\n",
        "def get_recommendations(search_title):\n",
        "    search_title = search_title.lower()\n",
        "    anime_index = df[df['Name'] == search_title].index[0]\n",
        "    \n",
        "    similarity_scores = list(enumerate(cosine_sim[anime_index]))\n",
        "    sorted_anime = sorted(similarity_scores, key=lambda x: x[1], reverse=True)\n",
        "    \n",
        "    top_anime_indices = [anime[0] for anime in sorted_anime if anime[0] != anime_index]\n",
        "    top_anime_titles = df.iloc[top_anime_indices][['Name', 'Genres']]\n",
        "    \n",
        "    return top_anime_titles"
      ],
      "metadata": {
        "id": "1o8rzDiVg1gN"
      },
      "execution_count": null,
      "outputs": []
    },
    {
      "cell_type": "markdown",
      "source": [
        "## Mencoba Content Based Recomender"
      ],
      "metadata": {
        "id": "fb25uyewp7x_"
      }
    },
    {
      "cell_type": "markdown",
      "source": [
        "Mempilkan 5 Judul Anime dengan yang memiliki nilai kemiripan tertinggi berdasarkan genre dari kata kunci judul anime yang dimasukkan"
      ],
      "metadata": {
        "id": "NSDg91GDdWd2"
      }
    },
    {
      "cell_type": "code",
      "source": [
        "# hasil rekomendasi anime dengan keyword \"Paprika\"\n",
        "anime_title = \"Paprika\"\n",
        "\n",
        "recommended_anime = get_recommendations(anime_title)\n",
        "recommended_anime.head(5)"
      ],
      "metadata": {
        "colab": {
          "base_uri": "https://localhost:8080/",
          "height": 206
        },
        "id": "kJmr52-hi2VK",
        "outputId": "d29009a4-25ab-4c14-fcf1-ab8e73f910df"
      },
      "execution_count": null,
      "outputs": [
        {
          "output_type": "execute_result",
          "data": {
            "text/plain": [
              "                                           Name  \\\n",
              "824                   higurashi no naku koro ni   \n",
              "15171             higurashi no naku koro ni gou   \n",
              "16211           higurashi no naku koro ni sotsu   \n",
              "13265                     yakusoku no neverland   \n",
              "6598   higurashi no naku koro ni kaku: outbreak   \n",
              "\n",
              "                                                  Genres  \n",
              "824    Mystery, Dementia, Horror, Psychological, Supe...  \n",
              "15171  Mystery, Dementia, Horror, Psychological, Supe...  \n",
              "16211  Mystery, Dementia, Horror, Psychological, Supe...  \n",
              "13265  Sci-Fi, Mystery, Horror, Psychological, Thrill...  \n",
              "6598            Mystery, Horror, Psychological, Thriller  "
            ],
            "text/html": [
              "\n",
              "  <div id=\"df-d91e0d9f-09d4-486f-b1af-82fe811a9fff\">\n",
              "    <div class=\"colab-df-container\">\n",
              "      <div>\n",
              "<style scoped>\n",
              "    .dataframe tbody tr th:only-of-type {\n",
              "        vertical-align: middle;\n",
              "    }\n",
              "\n",
              "    .dataframe tbody tr th {\n",
              "        vertical-align: top;\n",
              "    }\n",
              "\n",
              "    .dataframe thead th {\n",
              "        text-align: right;\n",
              "    }\n",
              "</style>\n",
              "<table border=\"1\" class=\"dataframe\">\n",
              "  <thead>\n",
              "    <tr style=\"text-align: right;\">\n",
              "      <th></th>\n",
              "      <th>Name</th>\n",
              "      <th>Genres</th>\n",
              "    </tr>\n",
              "  </thead>\n",
              "  <tbody>\n",
              "    <tr>\n",
              "      <th>824</th>\n",
              "      <td>higurashi no naku koro ni</td>\n",
              "      <td>Mystery, Dementia, Horror, Psychological, Supe...</td>\n",
              "    </tr>\n",
              "    <tr>\n",
              "      <th>15171</th>\n",
              "      <td>higurashi no naku koro ni gou</td>\n",
              "      <td>Mystery, Dementia, Horror, Psychological, Supe...</td>\n",
              "    </tr>\n",
              "    <tr>\n",
              "      <th>16211</th>\n",
              "      <td>higurashi no naku koro ni sotsu</td>\n",
              "      <td>Mystery, Dementia, Horror, Psychological, Supe...</td>\n",
              "    </tr>\n",
              "    <tr>\n",
              "      <th>13265</th>\n",
              "      <td>yakusoku no neverland</td>\n",
              "      <td>Sci-Fi, Mystery, Horror, Psychological, Thrill...</td>\n",
              "    </tr>\n",
              "    <tr>\n",
              "      <th>6598</th>\n",
              "      <td>higurashi no naku koro ni kaku: outbreak</td>\n",
              "      <td>Mystery, Horror, Psychological, Thriller</td>\n",
              "    </tr>\n",
              "  </tbody>\n",
              "</table>\n",
              "</div>\n",
              "      <button class=\"colab-df-convert\" onclick=\"convertToInteractive('df-d91e0d9f-09d4-486f-b1af-82fe811a9fff')\"\n",
              "              title=\"Convert this dataframe to an interactive table.\"\n",
              "              style=\"display:none;\">\n",
              "        \n",
              "  <svg xmlns=\"http://www.w3.org/2000/svg\" height=\"24px\"viewBox=\"0 0 24 24\"\n",
              "       width=\"24px\">\n",
              "    <path d=\"M0 0h24v24H0V0z\" fill=\"none\"/>\n",
              "    <path d=\"M18.56 5.44l.94 2.06.94-2.06 2.06-.94-2.06-.94-.94-2.06-.94 2.06-2.06.94zm-11 1L8.5 8.5l.94-2.06 2.06-.94-2.06-.94L8.5 2.5l-.94 2.06-2.06.94zm10 10l.94 2.06.94-2.06 2.06-.94-2.06-.94-.94-2.06-.94 2.06-2.06.94z\"/><path d=\"M17.41 7.96l-1.37-1.37c-.4-.4-.92-.59-1.43-.59-.52 0-1.04.2-1.43.59L10.3 9.45l-7.72 7.72c-.78.78-.78 2.05 0 2.83L4 21.41c.39.39.9.59 1.41.59.51 0 1.02-.2 1.41-.59l7.78-7.78 2.81-2.81c.8-.78.8-2.07 0-2.86zM5.41 20L4 18.59l7.72-7.72 1.47 1.35L5.41 20z\"/>\n",
              "  </svg>\n",
              "      </button>\n",
              "      \n",
              "  <style>\n",
              "    .colab-df-container {\n",
              "      display:flex;\n",
              "      flex-wrap:wrap;\n",
              "      gap: 12px;\n",
              "    }\n",
              "\n",
              "    .colab-df-convert {\n",
              "      background-color: #E8F0FE;\n",
              "      border: none;\n",
              "      border-radius: 50%;\n",
              "      cursor: pointer;\n",
              "      display: none;\n",
              "      fill: #1967D2;\n",
              "      height: 32px;\n",
              "      padding: 0 0 0 0;\n",
              "      width: 32px;\n",
              "    }\n",
              "\n",
              "    .colab-df-convert:hover {\n",
              "      background-color: #E2EBFA;\n",
              "      box-shadow: 0px 1px 2px rgba(60, 64, 67, 0.3), 0px 1px 3px 1px rgba(60, 64, 67, 0.15);\n",
              "      fill: #174EA6;\n",
              "    }\n",
              "\n",
              "    [theme=dark] .colab-df-convert {\n",
              "      background-color: #3B4455;\n",
              "      fill: #D2E3FC;\n",
              "    }\n",
              "\n",
              "    [theme=dark] .colab-df-convert:hover {\n",
              "      background-color: #434B5C;\n",
              "      box-shadow: 0px 1px 3px 1px rgba(0, 0, 0, 0.15);\n",
              "      filter: drop-shadow(0px 1px 2px rgba(0, 0, 0, 0.3));\n",
              "      fill: #FFFFFF;\n",
              "    }\n",
              "  </style>\n",
              "\n",
              "      <script>\n",
              "        const buttonEl =\n",
              "          document.querySelector('#df-d91e0d9f-09d4-486f-b1af-82fe811a9fff button.colab-df-convert');\n",
              "        buttonEl.style.display =\n",
              "          google.colab.kernel.accessAllowed ? 'block' : 'none';\n",
              "\n",
              "        async function convertToInteractive(key) {\n",
              "          const element = document.querySelector('#df-d91e0d9f-09d4-486f-b1af-82fe811a9fff');\n",
              "          const dataTable =\n",
              "            await google.colab.kernel.invokeFunction('convertToInteractive',\n",
              "                                                     [key], {});\n",
              "          if (!dataTable) return;\n",
              "\n",
              "          const docLinkHtml = 'Like what you see? Visit the ' +\n",
              "            '<a target=\"_blank\" href=https://colab.research.google.com/notebooks/data_table.ipynb>data table notebook</a>'\n",
              "            + ' to learn more about interactive tables.';\n",
              "          element.innerHTML = '';\n",
              "          dataTable['output_type'] = 'display_data';\n",
              "          await google.colab.output.renderOutput(dataTable, element);\n",
              "          const docLink = document.createElement('div');\n",
              "          docLink.innerHTML = docLinkHtml;\n",
              "          element.appendChild(docLink);\n",
              "        }\n",
              "      </script>\n",
              "    </div>\n",
              "  </div>\n",
              "  "
            ]
          },
          "metadata": {},
          "execution_count": 18
        }
      ]
    },
    {
      "cell_type": "code",
      "source": [
        "# hasil rekomendasi anime dengan keyword \"Monster\"\n",
        "anime_title = \"Monster\"\n",
        "\n",
        "recommended_anime = get_recommendations(anime_title)\n",
        "recommended_anime.head(5)"
      ],
      "metadata": {
        "colab": {
          "base_uri": "https://localhost:8080/",
          "height": 206
        },
        "id": "HEkIlN62hBpK",
        "outputId": "f15310ee-3717-404e-c105-50fdd236dc38"
      },
      "execution_count": null,
      "outputs": [
        {
          "output_type": "execute_result",
          "data": {
            "text/plain": [
              "                                           Name  \\\n",
              "6598   higurashi no naku koro ni kaku: outbreak   \n",
              "2495                        death note: rewrite   \n",
              "10449                          b: the beginning   \n",
              "13404               b: the beginning succession   \n",
              "289                             mousou dairinin   \n",
              "\n",
              "                                                  Genres  \n",
              "6598            Mystery, Horror, Psychological, Thriller  \n",
              "2495   Mystery, Police, Psychological, Supernatural, ...  \n",
              "10449  Action, Mystery, Police, Psychological, Supern...  \n",
              "13404  Action, Mystery, Police, Psychological, Supern...  \n",
              "289    Mystery, Dementia, Police, Psychological, Supe...  "
            ],
            "text/html": [
              "\n",
              "  <div id=\"df-2813cc5a-f2aa-4675-bc71-59402fafaf3e\">\n",
              "    <div class=\"colab-df-container\">\n",
              "      <div>\n",
              "<style scoped>\n",
              "    .dataframe tbody tr th:only-of-type {\n",
              "        vertical-align: middle;\n",
              "    }\n",
              "\n",
              "    .dataframe tbody tr th {\n",
              "        vertical-align: top;\n",
              "    }\n",
              "\n",
              "    .dataframe thead th {\n",
              "        text-align: right;\n",
              "    }\n",
              "</style>\n",
              "<table border=\"1\" class=\"dataframe\">\n",
              "  <thead>\n",
              "    <tr style=\"text-align: right;\">\n",
              "      <th></th>\n",
              "      <th>Name</th>\n",
              "      <th>Genres</th>\n",
              "    </tr>\n",
              "  </thead>\n",
              "  <tbody>\n",
              "    <tr>\n",
              "      <th>6598</th>\n",
              "      <td>higurashi no naku koro ni kaku: outbreak</td>\n",
              "      <td>Mystery, Horror, Psychological, Thriller</td>\n",
              "    </tr>\n",
              "    <tr>\n",
              "      <th>2495</th>\n",
              "      <td>death note: rewrite</td>\n",
              "      <td>Mystery, Police, Psychological, Supernatural, ...</td>\n",
              "    </tr>\n",
              "    <tr>\n",
              "      <th>10449</th>\n",
              "      <td>b: the beginning</td>\n",
              "      <td>Action, Mystery, Police, Psychological, Supern...</td>\n",
              "    </tr>\n",
              "    <tr>\n",
              "      <th>13404</th>\n",
              "      <td>b: the beginning succession</td>\n",
              "      <td>Action, Mystery, Police, Psychological, Supern...</td>\n",
              "    </tr>\n",
              "    <tr>\n",
              "      <th>289</th>\n",
              "      <td>mousou dairinin</td>\n",
              "      <td>Mystery, Dementia, Police, Psychological, Supe...</td>\n",
              "    </tr>\n",
              "  </tbody>\n",
              "</table>\n",
              "</div>\n",
              "      <button class=\"colab-df-convert\" onclick=\"convertToInteractive('df-2813cc5a-f2aa-4675-bc71-59402fafaf3e')\"\n",
              "              title=\"Convert this dataframe to an interactive table.\"\n",
              "              style=\"display:none;\">\n",
              "        \n",
              "  <svg xmlns=\"http://www.w3.org/2000/svg\" height=\"24px\"viewBox=\"0 0 24 24\"\n",
              "       width=\"24px\">\n",
              "    <path d=\"M0 0h24v24H0V0z\" fill=\"none\"/>\n",
              "    <path d=\"M18.56 5.44l.94 2.06.94-2.06 2.06-.94-2.06-.94-.94-2.06-.94 2.06-2.06.94zm-11 1L8.5 8.5l.94-2.06 2.06-.94-2.06-.94L8.5 2.5l-.94 2.06-2.06.94zm10 10l.94 2.06.94-2.06 2.06-.94-2.06-.94-.94-2.06-.94 2.06-2.06.94z\"/><path d=\"M17.41 7.96l-1.37-1.37c-.4-.4-.92-.59-1.43-.59-.52 0-1.04.2-1.43.59L10.3 9.45l-7.72 7.72c-.78.78-.78 2.05 0 2.83L4 21.41c.39.39.9.59 1.41.59.51 0 1.02-.2 1.41-.59l7.78-7.78 2.81-2.81c.8-.78.8-2.07 0-2.86zM5.41 20L4 18.59l7.72-7.72 1.47 1.35L5.41 20z\"/>\n",
              "  </svg>\n",
              "      </button>\n",
              "      \n",
              "  <style>\n",
              "    .colab-df-container {\n",
              "      display:flex;\n",
              "      flex-wrap:wrap;\n",
              "      gap: 12px;\n",
              "    }\n",
              "\n",
              "    .colab-df-convert {\n",
              "      background-color: #E8F0FE;\n",
              "      border: none;\n",
              "      border-radius: 50%;\n",
              "      cursor: pointer;\n",
              "      display: none;\n",
              "      fill: #1967D2;\n",
              "      height: 32px;\n",
              "      padding: 0 0 0 0;\n",
              "      width: 32px;\n",
              "    }\n",
              "\n",
              "    .colab-df-convert:hover {\n",
              "      background-color: #E2EBFA;\n",
              "      box-shadow: 0px 1px 2px rgba(60, 64, 67, 0.3), 0px 1px 3px 1px rgba(60, 64, 67, 0.15);\n",
              "      fill: #174EA6;\n",
              "    }\n",
              "\n",
              "    [theme=dark] .colab-df-convert {\n",
              "      background-color: #3B4455;\n",
              "      fill: #D2E3FC;\n",
              "    }\n",
              "\n",
              "    [theme=dark] .colab-df-convert:hover {\n",
              "      background-color: #434B5C;\n",
              "      box-shadow: 0px 1px 3px 1px rgba(0, 0, 0, 0.15);\n",
              "      filter: drop-shadow(0px 1px 2px rgba(0, 0, 0, 0.3));\n",
              "      fill: #FFFFFF;\n",
              "    }\n",
              "  </style>\n",
              "\n",
              "      <script>\n",
              "        const buttonEl =\n",
              "          document.querySelector('#df-2813cc5a-f2aa-4675-bc71-59402fafaf3e button.colab-df-convert');\n",
              "        buttonEl.style.display =\n",
              "          google.colab.kernel.accessAllowed ? 'block' : 'none';\n",
              "\n",
              "        async function convertToInteractive(key) {\n",
              "          const element = document.querySelector('#df-2813cc5a-f2aa-4675-bc71-59402fafaf3e');\n",
              "          const dataTable =\n",
              "            await google.colab.kernel.invokeFunction('convertToInteractive',\n",
              "                                                     [key], {});\n",
              "          if (!dataTable) return;\n",
              "\n",
              "          const docLinkHtml = 'Like what you see? Visit the ' +\n",
              "            '<a target=\"_blank\" href=https://colab.research.google.com/notebooks/data_table.ipynb>data table notebook</a>'\n",
              "            + ' to learn more about interactive tables.';\n",
              "          element.innerHTML = '';\n",
              "          dataTable['output_type'] = 'display_data';\n",
              "          await google.colab.output.renderOutput(dataTable, element);\n",
              "          const docLink = document.createElement('div');\n",
              "          docLink.innerHTML = docLinkHtml;\n",
              "          element.appendChild(docLink);\n",
              "        }\n",
              "      </script>\n",
              "    </div>\n",
              "  </div>\n",
              "  "
            ]
          },
          "metadata": {},
          "execution_count": 19
        }
      ]
    },
    {
      "cell_type": "code",
      "source": [
        "# hasil rekomendasi anime dengan keyword \"Naruto\"\n",
        "anime_title = \"Naruto\"\n",
        "\n",
        "recommended_anime = get_recommendations(anime_title)\n",
        "recommended_anime.head(5)"
      ],
      "metadata": {
        "colab": {
          "base_uri": "https://localhost:8080/",
          "height": 206
        },
        "id": "fX6IBGT0njhs",
        "outputId": "81d27ce6-3783-4a93-e9ba-440c432dabf6"
      },
      "execution_count": null,
      "outputs": [
        {
          "output_type": "execute_result",
          "data": {
            "text/plain": [
              "                                                    Name  \\\n",
              "1508                                  naruto: shippuuden   \n",
              "11640                    boruto: jump festa 2016 special   \n",
              "206                                       rekka no honoo   \n",
              "5518   naruto: honoo no chuunin shiken! naruto vs. ko...   \n",
              "6158          naruto: shippuuden movie 6 - road to ninja   \n",
              "\n",
              "                                                  Genres  \n",
              "1508   Action, Adventure, Comedy, Super Power, Martia...  \n",
              "11640  Action, Adventure, Comedy, Super Power, Martia...  \n",
              "206    Action, Adventure, Martial Arts, Shounen, Supe...  \n",
              "5518   Action, Adventure, Martial Arts, Shounen, Supe...  \n",
              "6158   Action, Adventure, Super Power, Martial Arts, ...  "
            ],
            "text/html": [
              "\n",
              "  <div id=\"df-a3f11483-b2c2-4f0b-89e9-929c85343c93\">\n",
              "    <div class=\"colab-df-container\">\n",
              "      <div>\n",
              "<style scoped>\n",
              "    .dataframe tbody tr th:only-of-type {\n",
              "        vertical-align: middle;\n",
              "    }\n",
              "\n",
              "    .dataframe tbody tr th {\n",
              "        vertical-align: top;\n",
              "    }\n",
              "\n",
              "    .dataframe thead th {\n",
              "        text-align: right;\n",
              "    }\n",
              "</style>\n",
              "<table border=\"1\" class=\"dataframe\">\n",
              "  <thead>\n",
              "    <tr style=\"text-align: right;\">\n",
              "      <th></th>\n",
              "      <th>Name</th>\n",
              "      <th>Genres</th>\n",
              "    </tr>\n",
              "  </thead>\n",
              "  <tbody>\n",
              "    <tr>\n",
              "      <th>1508</th>\n",
              "      <td>naruto: shippuuden</td>\n",
              "      <td>Action, Adventure, Comedy, Super Power, Martia...</td>\n",
              "    </tr>\n",
              "    <tr>\n",
              "      <th>11640</th>\n",
              "      <td>boruto: jump festa 2016 special</td>\n",
              "      <td>Action, Adventure, Comedy, Super Power, Martia...</td>\n",
              "    </tr>\n",
              "    <tr>\n",
              "      <th>206</th>\n",
              "      <td>rekka no honoo</td>\n",
              "      <td>Action, Adventure, Martial Arts, Shounen, Supe...</td>\n",
              "    </tr>\n",
              "    <tr>\n",
              "      <th>5518</th>\n",
              "      <td>naruto: honoo no chuunin shiken! naruto vs. ko...</td>\n",
              "      <td>Action, Adventure, Martial Arts, Shounen, Supe...</td>\n",
              "    </tr>\n",
              "    <tr>\n",
              "      <th>6158</th>\n",
              "      <td>naruto: shippuuden movie 6 - road to ninja</td>\n",
              "      <td>Action, Adventure, Super Power, Martial Arts, ...</td>\n",
              "    </tr>\n",
              "  </tbody>\n",
              "</table>\n",
              "</div>\n",
              "      <button class=\"colab-df-convert\" onclick=\"convertToInteractive('df-a3f11483-b2c2-4f0b-89e9-929c85343c93')\"\n",
              "              title=\"Convert this dataframe to an interactive table.\"\n",
              "              style=\"display:none;\">\n",
              "        \n",
              "  <svg xmlns=\"http://www.w3.org/2000/svg\" height=\"24px\"viewBox=\"0 0 24 24\"\n",
              "       width=\"24px\">\n",
              "    <path d=\"M0 0h24v24H0V0z\" fill=\"none\"/>\n",
              "    <path d=\"M18.56 5.44l.94 2.06.94-2.06 2.06-.94-2.06-.94-.94-2.06-.94 2.06-2.06.94zm-11 1L8.5 8.5l.94-2.06 2.06-.94-2.06-.94L8.5 2.5l-.94 2.06-2.06.94zm10 10l.94 2.06.94-2.06 2.06-.94-2.06-.94-.94-2.06-.94 2.06-2.06.94z\"/><path d=\"M17.41 7.96l-1.37-1.37c-.4-.4-.92-.59-1.43-.59-.52 0-1.04.2-1.43.59L10.3 9.45l-7.72 7.72c-.78.78-.78 2.05 0 2.83L4 21.41c.39.39.9.59 1.41.59.51 0 1.02-.2 1.41-.59l7.78-7.78 2.81-2.81c.8-.78.8-2.07 0-2.86zM5.41 20L4 18.59l7.72-7.72 1.47 1.35L5.41 20z\"/>\n",
              "  </svg>\n",
              "      </button>\n",
              "      \n",
              "  <style>\n",
              "    .colab-df-container {\n",
              "      display:flex;\n",
              "      flex-wrap:wrap;\n",
              "      gap: 12px;\n",
              "    }\n",
              "\n",
              "    .colab-df-convert {\n",
              "      background-color: #E8F0FE;\n",
              "      border: none;\n",
              "      border-radius: 50%;\n",
              "      cursor: pointer;\n",
              "      display: none;\n",
              "      fill: #1967D2;\n",
              "      height: 32px;\n",
              "      padding: 0 0 0 0;\n",
              "      width: 32px;\n",
              "    }\n",
              "\n",
              "    .colab-df-convert:hover {\n",
              "      background-color: #E2EBFA;\n",
              "      box-shadow: 0px 1px 2px rgba(60, 64, 67, 0.3), 0px 1px 3px 1px rgba(60, 64, 67, 0.15);\n",
              "      fill: #174EA6;\n",
              "    }\n",
              "\n",
              "    [theme=dark] .colab-df-convert {\n",
              "      background-color: #3B4455;\n",
              "      fill: #D2E3FC;\n",
              "    }\n",
              "\n",
              "    [theme=dark] .colab-df-convert:hover {\n",
              "      background-color: #434B5C;\n",
              "      box-shadow: 0px 1px 3px 1px rgba(0, 0, 0, 0.15);\n",
              "      filter: drop-shadow(0px 1px 2px rgba(0, 0, 0, 0.3));\n",
              "      fill: #FFFFFF;\n",
              "    }\n",
              "  </style>\n",
              "\n",
              "      <script>\n",
              "        const buttonEl =\n",
              "          document.querySelector('#df-a3f11483-b2c2-4f0b-89e9-929c85343c93 button.colab-df-convert');\n",
              "        buttonEl.style.display =\n",
              "          google.colab.kernel.accessAllowed ? 'block' : 'none';\n",
              "\n",
              "        async function convertToInteractive(key) {\n",
              "          const element = document.querySelector('#df-a3f11483-b2c2-4f0b-89e9-929c85343c93');\n",
              "          const dataTable =\n",
              "            await google.colab.kernel.invokeFunction('convertToInteractive',\n",
              "                                                     [key], {});\n",
              "          if (!dataTable) return;\n",
              "\n",
              "          const docLinkHtml = 'Like what you see? Visit the ' +\n",
              "            '<a target=\"_blank\" href=https://colab.research.google.com/notebooks/data_table.ipynb>data table notebook</a>'\n",
              "            + ' to learn more about interactive tables.';\n",
              "          element.innerHTML = '';\n",
              "          dataTable['output_type'] = 'display_data';\n",
              "          await google.colab.output.renderOutput(dataTable, element);\n",
              "          const docLink = document.createElement('div');\n",
              "          docLink.innerHTML = docLinkHtml;\n",
              "          element.appendChild(docLink);\n",
              "        }\n",
              "      </script>\n",
              "    </div>\n",
              "  </div>\n",
              "  "
            ]
          },
          "metadata": {},
          "execution_count": 20
        }
      ]
    }
  ]
}